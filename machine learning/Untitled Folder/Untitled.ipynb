{
 "cells": [
  {
   "cell_type": "code",
   "execution_count": 1,
   "id": "985f1407",
   "metadata": {},
   "outputs": [],
   "source": [
    "current_x = 2\n",
    "delta_x = 1\n",
    "maximum_it = 10000\n",
    "counter = 1;\n",
    "\n",
    "rate = 0.01\n",
    "\n",
    "precision = 0.000001"
   ]
  },
  {
   "cell_type": "code",
   "execution_count": 2,
   "id": "b021829f",
   "metadata": {},
   "outputs": [],
   "source": [
    "def slope(x):\n",
    "    return 2*(x+3)\n",
    "\n",
    "def value_y(x):\n",
    "    return (x+3)**2\n",
    "x = []\n",
    "y = []\n",
    "x.append(current_x)\n",
    "y.append(value_y(current_x))"
   ]
  },
  {
   "cell_type": "code",
   "execution_count": 3,
   "id": "2c19b550",
   "metadata": {},
   "outputs": [
    {
     "name": "stdout",
     "output_type": "stream",
     "text": [
      "-2.999951128099859\n"
     ]
    }
   ],
   "source": [
    "while delta_x > precision and counter < maximum_it:\n",
    "    previous_x = current_x\n",
    "    current_x = previous_x - rate*slope(previous_x)\n",
    "    x.append(current_x)\n",
    "    y.append(value_y(current_x))\n",
    "    delta_x = abs(previous_x - current_x)\n",
    "    counter += 1\n",
    "    \n",
    "print(current_x)"
   ]
  },
  {
   "cell_type": "code",
   "execution_count": 9,
   "id": "cfd4a6a7",
   "metadata": {},
   "outputs": [
    {
     "data": {
      "text/plain": [
       "<matplotlib.collections.PathCollection at 0x15371e9d5d0>"
      ]
     },
     "execution_count": 9,
     "metadata": {},
     "output_type": "execute_result"
    },
    {
     "data": {
      "image/png": "[encoded data removed]",
      "text/plain": [
       "<Figure size 640x480 with 1 Axes>"
      ]
     },
     "metadata": {},
     "output_type": "display_data"
    }
   ],
   "source": [
    "import matplotlib.pyplot as plt\n",
    "plt.scatter(x,y)"
   ]
  },
  {
   "cell_type": "code",
   "execution_count": null,
   "id": "6b129a9d",
   "metadata": {},
   "outputs": [],
   "source": []
  }
 ],
 "metadata": {
  "kernelspec": {
   "display_name": "Python 3 (ipykernel)",
   "language": "python",
   "name": "python3"
  },
  "language_info": {
   "codemirror_mode": {
    "name": "ipython",
    "version": 3
   },
   "file_extension": ".py",
   "mimetype": "text/x-python",
   "name": "python",
   "nbconvert_exporter": "python",
   "pygments_lexer": "ipython3",
   "version": "3.10.0"
  }
 },
 "nbformat": 4,
 "nbformat_minor": 5
}
